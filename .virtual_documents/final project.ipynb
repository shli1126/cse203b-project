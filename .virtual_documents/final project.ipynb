import numpy as np
import pandas as pd
import matplotlib.pyplot as plt
import seaborn as sns
from scipy.stats import ttest_ind
import time


data = pd.read_csv('media prediction and its cost.csv')
data.head()


data.shape


data.info()


pd.set_option('display.max_rows', None)  # Display all rows
pd.set_option('display.max_columns', None)  # Display all columns
pd.set_option('display.max_colwidth', None)  # Don't truncate long columns
pd.set_option('display.expand_frame_repr', False)  # Don't wrap lines


data.describe(include='all')


from sklearn.preprocessing import OneHotEncoder, StandardScaler
from sklearn.model_selection import train_test_split
from sklearn.svm import SVR
from sklearn.metrics import mean_squared_error
from sklearn.svm import SVR
from sklearn.pipeline import make_pipeline
from sklearn.preprocessing import StandardScaler


dtypes = data.dtypes

categorical_cols = data.columns[dtypes == 'object'].tolist()
numerical_cols = data.columns[dtypes == 'float64'].tolist()

encoder = OneHotEncoder(handle_unknown='ignore')
encoded_data = encoder.fit_transform(data[categorical_cols])

encoded_df = pd.DataFrame(encoded_data.toarray(), columns=encoder.get_feature_names_out(categorical_cols))

processed_data = pd.concat([encoded_df, data[numerical_cols]], axis=1)


processed_data.shape


processed_data.info(verbose=True)


from sklearn.model_selection import train_test_split
from sklearn.preprocessing import StandardScaler
from sklearn.preprocessing import RobustScaler
from sklearn.model_selection import GridSearchCV
from sklearn.svm import SVR
from sklearn.preprocessing import StandardScaler
from sklearn.pipeline import Pipeline


X = processed_data.drop('cost', axis=1) # Features
y = processed_data['cost'] # Target variable

X_train, X_test, y_train, y_test = train_test_split(X, y, test_size=0.2, random_state=42)


pipeline = Pipeline([
    ('scaler', StandardScaler()),
    ('svr', SVR())
])

# Define the parameter grid to search
param_grid = {
    'svr__C': [0.1, 1, 10],
    'svr__epsilon': [0.01, 0.1, 0.2, 0.5],
    'svr__kernel': ['rbf', 'linear']
}

# Initialize the Grid Search model
grid_search = GridSearchCV(pipeline, param_grid, cv=5, scoring='neg_mean_squared_error', verbose=1, n_jobs=-1)

# Fit the Grid Search model
grid_search.fit(X_train, y_train)

print("Best parameters found: ", grid_search.best_params_)
print("Best CV score: ", -grid_search.best_score_)


svr_model = make_pipeline(StandardScaler(), SVR(C=1.0, epsilon=0.2))
svr_model.fit(X_train, y_train)


from sklearn.metrics import mean_squared_error, r2_score

y_pred = svr_model.predict(X_test)

mse = mean_squared_error(y_test, y_pred)
r2 = r2_score(y_test, y_pred)

print(f'Mean Squared Error: {mse}')
print(f'R-squared: {r2}')



print(y[:10])


print(y_pred[:10])






